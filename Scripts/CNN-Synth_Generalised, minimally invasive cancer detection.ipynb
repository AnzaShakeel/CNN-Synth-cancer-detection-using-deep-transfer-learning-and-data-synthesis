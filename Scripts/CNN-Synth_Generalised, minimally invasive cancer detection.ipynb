{
 "cells": [
  {
   "cell_type": "markdown",
   "id": "9f5cef07-e17f-4204-b912-4c263b0aaa77",
   "metadata": {},
   "source": [
    "<h2 style=\"color:blue; font-size:23pt;\">\n",
    "CNN-Synth: Generalised, minimally invasive cancer detection\n",
    "</h2>"
   ]
  },
  {
   "cell_type": "code",
   "execution_count": null,
   "id": "74cad396-c2fb-4b14-bcfd-a6af624db85e",
   "metadata": {
    "scrolled": true
   },
   "outputs": [],
   "source": [
    "%matplotlib inline\n",
    "\n",
    "import time\n",
    "import matplotlib as mpl\n",
    "from mpl_toolkits.mplot3d import Axes3D\n",
    "import warnings\n",
    "\n",
    "import numpy as np\n",
    "import matplotlib.cm as cm\n",
    "import matplotlib.pyplot as plt\n",
    "import pandas as pd\n",
    "from   sklearn.preprocessing import StandardScaler, RobustScaler\n",
    "import seaborn as sns\n",
    "from sklearn.model_selection import train_test_split\n",
    "\n",
    "from sklearn.metrics import RocCurveDisplay, auc, roc_curve, precision_recall_curve, average_precision_score, accuracy_score, confusion_matrix\n",
    "from tensorflow import keras\n",
    "from tensorflow.keras import layers, models, losses\n",
    "import tensorflow as tf\n",
    "import shap\n",
    "\n",
    "from sklearn import metrics\n",
    "from sklearn.metrics import classification_report\n",
    "\n",
    "np.set_printoptions(suppress=True)\n",
    "np.set_printoptions(precision=4)\n",
    "plt_style = 'seaborn-talk'\n"
   ]
  },
  {
   "cell_type": "markdown",
   "id": "f5f96f11-8cfe-4452-ae09-dcfaacd5444c",
   "metadata": {},
   "source": [
    "<h2 style=\"color:blue; font-size:20pt;\">\n",
    "Load and preprocess the proteomic dataset\n",
    "</h2>"
   ]
  },
  {
   "cell_type": "code",
   "execution_count": null,
   "id": "00efe158-105b-4061-b8bc-f940ebc61977",
   "metadata": {},
   "outputs": [],
   "source": [
    "print(\"Reading Data Matrix\")\n",
    "data_df = pd.read_csv('Data/.csv') #path to data file\n",
    "filtered_NPX_data_array = data_df.to_numpy()\n",
    "print(filtered_NPX_data_array.shape)\n",
    "#print(data_df.head())\n",
    "\n",
    "sample_IDs = data_df[\"SampleID\"].tolist()\n",
    "assay_92_names = data_df.columns.values.tolist()\n",
    "assay_92_names = assay_92_names[1:]\n",
    "\n",
    "print([len(sample_IDs), len(assay_92_names)])\n",
    "NPX_real_data_array = filtered_NPX_data_array[:,1:]\n",
    "NPX_real_data_array = np.asarray(NPX_real_data_array).astype(np.float32)\n",
    "\n",
    "\n",
    "# --- Filter and reorder protein features ---\n",
    "\n",
    "# Your protein list\n",
    "with open('Data/92_ProteinList_gene_names.txt', 'r') as file:\n",
    "    selected_proteins = [line.strip() for line in file if line.strip()]\n",
    "\n",
    "# Normalize function to match names\n",
    "def normalize(name):\n",
    "    return name.upper().replace(\"-\", \"\").replace(\"_\", \"\")\n",
    "\n",
    "# Map original column names to normalized forms\n",
    "normalized_assay_names = [normalize(name) for name in assay_92_names]\n",
    "assay_map = {normalize(name): name for name in assay_92_names}\n",
    "\n",
    "# Filter and reorder\n",
    "matched_proteins = []\n",
    "missing_proteins = []\n",
    "\n",
    "for p in selected_proteins:\n",
    "    norm_p = normalize(p)\n",
    "    if norm_p in assay_map:\n",
    "        matched_proteins.append(assay_map[norm_p])\n",
    "    else:\n",
    "        missing_proteins.append(p)\n",
    "\n",
    "print(f\"Matched: {len(matched_proteins)}, Missing: {missing_proteins}\")\n",
    "\n",
    "if len(missing_proteins) > 1:\n",
    "    warnings.warn(f\"Multiple unmatched proteins found: {missing_proteins}\")\n",
    "    raise ValueError(f\"Ensure that you are working with same set of 92 proteins, in same order!\")"
   ]
  },
  {
   "cell_type": "markdown",
   "id": "3cdb9e4c-6b03-4a4b-b5c2-5ac8fb102e71",
   "metadata": {},
   "source": [
    "<h2 style=\"color:blue; font-size:20pt;\">\n",
    "Load case (should be 1), control (should be 0) information\n",
    "</h2>"
   ]
  },
  {
   "cell_type": "code",
   "execution_count": null,
   "id": "8dd68142-1857-4895-94de-a542aa21e445",
   "metadata": {},
   "outputs": [],
   "source": [
    "gt_pat_type_data = pd.read_csv('Data/.csv') #path to phenotype file, rows = sampleIDs, columns = Case (1) or Control (0)  \n",
    "gt_pat_type_data = gt_pat_type_data.to_numpy()\n",
    "print(gt_pat_type_data.shape)\n",
    "gt_pat_type = gt_pat_type_data[:,1]\n",
    "\n",
    "gt_pat_type = np.where(gt_pat_type == 2, 0, gt_pat_type)\n",
    "gt_pat_type_array = gt_pat_type.reshape(gt_pat_type.shape[0], 1)\n",
    "gt_pat_type_array = np.asarray(gt_pat_type_array).astype(np.float32)\n",
    "\n",
    "gt_pat_type = list(gt_pat_type)\n",
    "print([gt_pat_type_array.shape, NPX_real_data_array.shape])\n",
    "print('Number of Cancer Patients: ' + str(gt_pat_type.count(1)))\n",
    "print('Number of Healthy Patients: ' + str(gt_pat_type.count(0)))\n",
    "\n",
    "NPX_real_data_array = np.expand_dims(NPX_real_data_array, axis=1)"
   ]
  },
  {
   "cell_type": "markdown",
   "id": "fa1b3213-59c6-4a9e-bcd5-9bc5d4d76fa8",
   "metadata": {},
   "source": [
    "<h2 style=\"color:blue; font-size:20pt;\">\n",
    "Define and load the pre-trained deep learning model\n",
    "</h2>"
   ]
  },
  {
   "cell_type": "code",
   "execution_count": null,
   "id": "a4b1a03c-708a-42db-af6f-385486aee5ff",
   "metadata": {},
   "outputs": [],
   "source": [
    "latent_dim = 10\n",
    "\n",
    "classifier_inputs = keras.Input(shape=(1,92))\n",
    "x = layers.Conv1D(64, 1, strides=1, activation=\"relu\", padding=\"same\",kernel_initializer='he_uniform', kernel_regularizer=keras.regularizers.l2(0.001))(classifier_inputs)\n",
    "x = layers.Conv1D(64, 1, strides=1, activation=\"relu\", padding=\"same\",kernel_initializer='he_uniform', kernel_regularizer=keras.regularizers.l2(0.001))(x)\n",
    "x = layers.BatchNormalization()(x)\n",
    "x = layers.Flatten()(x)\n",
    "x = layers.Dense(32, activation=\"relu\", kernel_initializer='he_uniform', kernel_regularizer=keras.regularizers.l2(0.001))(x)\n",
    "x = layers.BatchNormalization()(x)\n",
    "x = layers.Dense(32, activation=\"relu\", kernel_initializer='he_uniform', kernel_regularizer=keras.regularizers.l2(0.001))(x)\n",
    "x = layers.BatchNormalization()(x)\n",
    "x = layers.Dense(10, activation=\"relu\", kernel_initializer='he_uniform', kernel_regularizer=keras.regularizers.l2(0.001))(x)\n",
    "x = layers.BatchNormalization()(x)\n",
    "#x = layers.Dense(128, activation=\"relu\")(x)\n",
    "#x = layers.Dense(10, activation=\"tanh\", kernel_initializer='he_uniform', kernel_regularizer=keras.regularizers.l2(0.001))(x)\n",
    "classifier_output = layers.Dense(1, activation=\"sigmoid\", name=\"output\", kernel_initializer='he_uniform')(x)\n",
    "nn_classifier = keras.Model(classifier_inputs, classifier_output, name=\"encoder\")\n",
    "\n",
    "nn_classifier.compile(optimizer=keras.optimizers.Adam(learning_rate=0.00001), loss='binary_crossentropy', metrics=['accuracy'])\n",
    "\n",
    "initial_weights_path = \"Output/CNN-Synth.weights.h5\" #path to pre-trained weights\n",
    "nn_classifier.summary()\n",
    "nn_classifier.load_weights(initial_weights_path)\n"
   ]
  },
  {
   "cell_type": "markdown",
   "id": "fc46a2f7-b51f-4220-87f9-1ecf8072467a",
   "metadata": {},
   "source": [
    "<h2 style=\"color:blue; font-size:20pt;\">\n",
    "Evaluate model: accuracy, AUC, ROC curve\n",
    "</h2>"
   ]
  },
  {
   "cell_type": "code",
   "execution_count": null,
   "id": "40e6a94d-23a5-46e0-a2e9-3e5575fb0280",
   "metadata": {},
   "outputs": [],
   "source": [
    "X_test = NPX_real_data_array\n",
    "y_pred = nn_classifier.predict(X_test)\n",
    "\n",
    "# Metrics\n",
    "fpr, tpr, _ = roc_curve(gt_pat_type_array, y_pred)\n",
    "roc_auc = auc(fpr, tpr)\n",
    "\n",
    "# Plot ROC\n",
    "plt.figure(figsize=(6, 5))\n",
    "plt.plot(fpr, tpr, label=f'AUC = {roc_auc:.2f}')\n",
    "plt.plot([0, 1], [0, 1], 'k--')\n",
    "plt.xlabel('False Positive Rate')\n",
    "plt.ylabel('True Positive Rate')\n",
    "plt.title('ROC Curve')\n",
    "plt.legend()\n",
    "plt.grid(True)\n",
    "plt.show()"
   ]
  },
  {
   "cell_type": "code",
   "execution_count": null,
   "id": "72196591-6ecd-4fd0-9149-7d8c91bed9df",
   "metadata": {},
   "outputs": [],
   "source": [
    "roc_auc = auc(fpr, tpr)\n",
    "precision, recall, thresholds = precision_recall_curve(gt_pat_type_array, y_pred)\n",
    "#print([precision, recall])\n",
    "fscore = (2 * precision * recall) / (precision + recall)\n",
    "AP = average_precision_score(gt_pat_type_array, y_pred)\n",
    "# locate the index of the largest f score\n",
    "ix = np.argmax(fscore)\n",
    "print('Best Threshold=%.3f, F1-score=%.3f' % (thresholds[ix], fscore[ix]))\n",
    "y_pred = np.where(y_pred > thresholds[ix], 1, 0)\n",
    "confusion_matrix = confusion_matrix(gt_pat_type_array, y_pred)\n",
    "cm_display = metrics.ConfusionMatrixDisplay(confusion_matrix = confusion_matrix, display_labels = [0, 1])\n",
    "cm_display.plot()\n",
    "plt.show()\n",
    "\n",
    "target_names = ['Control', 'Case']\n",
    "print(classification_report(gt_pat_type_array, y_pred, target_names=target_names))"
   ]
  },
  {
   "cell_type": "markdown",
   "id": "4f822938-f84a-43ec-8617-f73bdf87f5cb",
   "metadata": {},
   "source": [
    "<h2 style=\"color:blue; font-size:20pt;\">\n",
    "Generate SHAP values and plot feature importance\n",
    "</h2>"
   ]
  },
  {
   "cell_type": "code",
   "execution_count": null,
   "id": "7f73361e-a215-4bea-8f8e-dac8363e187c",
   "metadata": {},
   "outputs": [],
   "source": [
    "NpX_train, NpX_test, Npy_train, Npy_test = train_test_split(NPX_real_data_array, gt_pat_type_array, test_size=0.8, random_state=42)\n",
    "print([NpX_train.shape, NpX_test.shape])"
   ]
  },
  {
   "cell_type": "code",
   "execution_count": null,
   "id": "bfbac763-0c00-43ed-94f3-cd581ea05846",
   "metadata": {},
   "outputs": [],
   "source": [
    "NPX_real_data_array_ap = np.expand_dims(NPX_real_data_array, axis=1)\n",
    "NpX_test_ap = np.expand_dims(NpX_test, axis=1)\n",
    "NpX_train_ap = np.expand_dims(NpX_train, axis=1)"
   ]
  },
  {
   "cell_type": "code",
   "execution_count": null,
   "id": "31a6e63b-ac41-4ee1-a1b8-696721ac515f",
   "metadata": {
    "scrolled": true
   },
   "outputs": [],
   "source": [
    "NPX_real_data_pd = pd.DataFrame(NPX_real_data_array_ap[:,0,:], columns=assay_92_names)\n",
    "NpX_test_data_pd = pd.DataFrame(NpX_test_ap[:,0,:], columns=assay_92_names)\n",
    "NpX_train_data_pd = pd.DataFrame(NpX_train_ap[:,0,:], columns=assay_92_names)\n",
    "\n",
    "explainer = shap.DeepExplainer(nn_classifier, NPX_real_data_array_ap[:, :, :])\n",
    "shap_values = explainer.shap_values(NPX_real_data_array_ap)\n",
    "\n",
    "print(explainer)\n",
    "Base_value = explainer.expected_value\n",
    "print(Base_value)\n",
    "\n",
    "print([shap_values.shape, NPX_real_data_array.shape])\n",
    "shap_values_V_reshaped = shap_values.reshape((175, 92))\n",
    "\n",
    "print([shap_values_V_reshaped.shape, NPX_real_data_array_ap.shape])\n",
    "\n",
    "#shap.summary_plot(shap_values_V_reshaped, NPX_real_data_pd)\n",
    "shap.summary_plot(shap_values_V_reshaped, NPX_real_data_pd, plot_type='bar')\n",
    "shap_values_cnn = shap_values_V_reshaped"
   ]
  }
 ],
 "metadata": {
  "kernelspec": {
   "display_name": "Python 3 (ipykernel)",
   "language": "python",
   "name": "python3"
  },
  "language_info": {
   "codemirror_mode": {
    "name": "ipython",
    "version": 3
   },
   "file_extension": ".py",
   "mimetype": "text/x-python",
   "name": "python",
   "nbconvert_exporter": "python",
   "pygments_lexer": "ipython3",
   "version": "3.9.18"
  }
 },
 "nbformat": 4,
 "nbformat_minor": 5
}
